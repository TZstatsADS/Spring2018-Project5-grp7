{
 "cells": [
  {
   "cell_type": "code",
   "execution_count": 8,
   "metadata": {},
   "outputs": [
    {
     "data": {
      "text/html": [
       "<div>\n",
       "<style scoped>\n",
       "    .dataframe tbody tr th:only-of-type {\n",
       "        vertical-align: middle;\n",
       "    }\n",
       "\n",
       "    .dataframe tbody tr th {\n",
       "        vertical-align: top;\n",
       "    }\n",
       "\n",
       "    .dataframe thead th {\n",
       "        text-align: right;\n",
       "    }\n",
       "</style>\n",
       "<table border=\"1\" class=\"dataframe\">\n",
       "  <thead>\n",
       "    <tr style=\"text-align: right;\">\n",
       "      <th></th>\n",
       "      <th>0</th>\n",
       "      <th>1</th>\n",
       "      <th>2</th>\n",
       "      <th>3</th>\n",
       "      <th>4</th>\n",
       "      <th>5</th>\n",
       "      <th>6</th>\n",
       "      <th>7</th>\n",
       "      <th>8</th>\n",
       "      <th>9</th>\n",
       "      <th>...</th>\n",
       "      <th>1120</th>\n",
       "      <th>1121</th>\n",
       "      <th>1122</th>\n",
       "      <th>1123</th>\n",
       "      <th>1124</th>\n",
       "      <th>1125</th>\n",
       "      <th>1126</th>\n",
       "      <th>1127</th>\n",
       "      <th>1128</th>\n",
       "      <th>1129</th>\n",
       "    </tr>\n",
       "  </thead>\n",
       "  <tbody>\n",
       "    <tr>\n",
       "      <th>0</th>\n",
       "      <td>moroccan</td>\n",
       "      <td>2.343082</td>\n",
       "      <td>-1.789789</td>\n",
       "      <td>-1.933703</td>\n",
       "      <td>1.147891</td>\n",
       "      <td>0.021007</td>\n",
       "      <td>-1.001989</td>\n",
       "      <td>0.748582</td>\n",
       "      <td>-0.352014</td>\n",
       "      <td>0.535262</td>\n",
       "      <td>...</td>\n",
       "      <td>-0.001853</td>\n",
       "      <td>-0.003558</td>\n",
       "      <td>-0.020117</td>\n",
       "      <td>0.003819</td>\n",
       "      <td>0.002930</td>\n",
       "      <td>0.006243</td>\n",
       "      <td>-0.003105</td>\n",
       "      <td>0.004862</td>\n",
       "      <td>-0.002443</td>\n",
       "      <td>0.004274</td>\n",
       "    </tr>\n",
       "    <tr>\n",
       "      <th>1</th>\n",
       "      <td>italian</td>\n",
       "      <td>1.221793</td>\n",
       "      <td>0.225418</td>\n",
       "      <td>1.311653</td>\n",
       "      <td>-0.952414</td>\n",
       "      <td>0.428094</td>\n",
       "      <td>-0.238505</td>\n",
       "      <td>0.313333</td>\n",
       "      <td>0.792769</td>\n",
       "      <td>0.207720</td>\n",
       "      <td>...</td>\n",
       "      <td>0.019299</td>\n",
       "      <td>0.003339</td>\n",
       "      <td>-0.007257</td>\n",
       "      <td>-0.003370</td>\n",
       "      <td>-0.006263</td>\n",
       "      <td>-0.002175</td>\n",
       "      <td>-0.005002</td>\n",
       "      <td>0.000139</td>\n",
       "      <td>0.006742</td>\n",
       "      <td>-0.001697</td>\n",
       "    </tr>\n",
       "    <tr>\n",
       "      <th>2</th>\n",
       "      <td>italian</td>\n",
       "      <td>-0.111885</td>\n",
       "      <td>0.321630</td>\n",
       "      <td>0.637738</td>\n",
       "      <td>-0.399526</td>\n",
       "      <td>-0.046909</td>\n",
       "      <td>-0.905924</td>\n",
       "      <td>-0.067893</td>\n",
       "      <td>1.100064</td>\n",
       "      <td>0.160790</td>\n",
       "      <td>...</td>\n",
       "      <td>0.000400</td>\n",
       "      <td>-0.000285</td>\n",
       "      <td>-0.001762</td>\n",
       "      <td>0.000077</td>\n",
       "      <td>0.002428</td>\n",
       "      <td>0.003447</td>\n",
       "      <td>-0.001838</td>\n",
       "      <td>-0.001912</td>\n",
       "      <td>0.000037</td>\n",
       "      <td>-0.003518</td>\n",
       "    </tr>\n",
       "    <tr>\n",
       "      <th>3</th>\n",
       "      <td>french</td>\n",
       "      <td>2.005660</td>\n",
       "      <td>-1.179427</td>\n",
       "      <td>0.428831</td>\n",
       "      <td>0.821531</td>\n",
       "      <td>0.467224</td>\n",
       "      <td>-0.534403</td>\n",
       "      <td>-0.510021</td>\n",
       "      <td>-1.035522</td>\n",
       "      <td>0.077172</td>\n",
       "      <td>...</td>\n",
       "      <td>0.002302</td>\n",
       "      <td>0.005731</td>\n",
       "      <td>0.008361</td>\n",
       "      <td>0.009006</td>\n",
       "      <td>-0.000623</td>\n",
       "      <td>-0.015675</td>\n",
       "      <td>-0.005540</td>\n",
       "      <td>0.007506</td>\n",
       "      <td>-0.009077</td>\n",
       "      <td>0.009106</td>\n",
       "    </tr>\n",
       "    <tr>\n",
       "      <th>4</th>\n",
       "      <td>italian</td>\n",
       "      <td>-0.320911</td>\n",
       "      <td>-0.631974</td>\n",
       "      <td>-0.204492</td>\n",
       "      <td>-0.255747</td>\n",
       "      <td>-0.639101</td>\n",
       "      <td>-0.619298</td>\n",
       "      <td>-0.373999</td>\n",
       "      <td>-0.819032</td>\n",
       "      <td>0.662182</td>\n",
       "      <td>...</td>\n",
       "      <td>-0.004526</td>\n",
       "      <td>-0.006548</td>\n",
       "      <td>0.009077</td>\n",
       "      <td>-0.002397</td>\n",
       "      <td>-0.007805</td>\n",
       "      <td>-0.003249</td>\n",
       "      <td>0.002147</td>\n",
       "      <td>0.003655</td>\n",
       "      <td>-0.009667</td>\n",
       "      <td>-0.001703</td>\n",
       "    </tr>\n",
       "  </tbody>\n",
       "</table>\n",
       "<p>5 rows × 1130 columns</p>\n",
       "</div>"
      ],
      "text/plain": [
       "       0         1         2         3         4         5         6     \\\n",
       "0  moroccan  2.343082 -1.789789 -1.933703  1.147891  0.021007 -1.001989   \n",
       "1   italian  1.221793  0.225418  1.311653 -0.952414  0.428094 -0.238505   \n",
       "2   italian -0.111885  0.321630  0.637738 -0.399526 -0.046909 -0.905924   \n",
       "3    french  2.005660 -1.179427  0.428831  0.821531  0.467224 -0.534403   \n",
       "4   italian -0.320911 -0.631974 -0.204492 -0.255747 -0.639101 -0.619298   \n",
       "\n",
       "       7         8         9       ...         1120      1121      1122  \\\n",
       "0  0.748582 -0.352014  0.535262    ...    -0.001853 -0.003558 -0.020117   \n",
       "1  0.313333  0.792769  0.207720    ...     0.019299  0.003339 -0.007257   \n",
       "2 -0.067893  1.100064  0.160790    ...     0.000400 -0.000285 -0.001762   \n",
       "3 -0.510021 -1.035522  0.077172    ...     0.002302  0.005731  0.008361   \n",
       "4 -0.373999 -0.819032  0.662182    ...    -0.004526 -0.006548  0.009077   \n",
       "\n",
       "       1123      1124      1125      1126      1127      1128      1129  \n",
       "0  0.003819  0.002930  0.006243 -0.003105  0.004862 -0.002443  0.004274  \n",
       "1 -0.003370 -0.006263 -0.002175 -0.005002  0.000139  0.006742 -0.001697  \n",
       "2  0.000077  0.002428  0.003447 -0.001838 -0.001912  0.000037 -0.003518  \n",
       "3  0.009006 -0.000623 -0.015675 -0.005540  0.007506 -0.009077  0.009106  \n",
       "4 -0.002397 -0.007805 -0.003249  0.002147  0.003655 -0.009667 -0.001703  \n",
       "\n",
       "[5 rows x 1130 columns]"
      ]
     },
     "execution_count": 8,
     "metadata": {},
     "output_type": "execute_result"
    }
   ],
   "source": [
    "import numpy as np\n",
    "import pandas as pd\n",
    "#train\n",
    "train = pd.read_csv('C:/Users/ding/Desktop/prj5/wen lan/train_data.csv',\n",
    "                    header = None)\n",
    "\n",
    "train.head()"
   ]
  },
  {
   "cell_type": "code",
   "execution_count": 9,
   "metadata": {},
   "outputs": [],
   "source": [
    "feature_train = np.array(train.iloc[:,1:])\n",
    "#feature_train.shape\n",
    "label_train = np.array(train[0])\n",
    "#label_train.shape\n",
    "\n",
    "#test\n",
    "test = pd.read_csv('C:/Users/ding/Desktop/prj5/wen lan/test_data.csv',\n",
    "                    header = None)\n",
    "feature_test = np.array(test.iloc[:,1:])\n",
    "label_test = np.array(test[0])"
   ]
  },
  {
   "cell_type": "code",
   "execution_count": 10,
   "metadata": {},
   "outputs": [],
   "source": [
    "from sklearn import svm\n",
    "from sklearn.metrics import accuracy_score"
   ]
  },
  {
   "cell_type": "code",
   "execution_count": 11,
   "metadata": {},
   "outputs": [],
   "source": [
    "true_rate1 = []\n",
    "svm = svm.SVC(C=100, kernel='rbf', degree=3, gamma=0.01)\n"
   ]
  },
  {
   "cell_type": "code",
   "execution_count": 12,
   "metadata": {},
   "outputs": [
    {
     "data": {
      "text/plain": [
       "SVC(C=100, cache_size=200, class_weight=None, coef0=0.0,\n",
       "  decision_function_shape='ovr', degree=3, gamma=0.01, kernel='rbf',\n",
       "  max_iter=-1, probability=False, random_state=None, shrinking=True,\n",
       "  tol=0.001, verbose=False)"
      ]
     },
     "execution_count": 12,
     "metadata": {},
     "output_type": "execute_result"
    }
   ],
   "source": [
    "svm.fit(feature_train,label_train)"
   ]
  },
  {
   "cell_type": "code",
   "execution_count": 13,
   "metadata": {},
   "outputs": [],
   "source": [
    "pred = svm.predict(feature_test)\n",
    "true_rate1.append(accuracy_score(label_test,pred))"
   ]
  },
  {
   "cell_type": "code",
   "execution_count": 14,
   "metadata": {},
   "outputs": [
    {
     "data": {
      "text/plain": [
       "[0.41874497184231696,\n",
       " 0.7383346741753821,\n",
       " 0.7713193885760258,\n",
       " 0.7748390989541432,\n",
       " 0.7763475462590507,\n",
       " 0.2234513274336283,\n",
       " 0.7707160096540627]"
      ]
     },
     "execution_count": 14,
     "metadata": {},
     "output_type": "execute_result"
    }
   ],
   "source": [
    "true_rate1"
   ]
  },
  {
   "cell_type": "code",
   "execution_count": null,
   "metadata": {},
   "outputs": [],
   "source": []
  },
  {
   "cell_type": "code",
   "execution_count": null,
   "metadata": {},
   "outputs": [],
   "source": [
    "#from sklearn.model_selection import GridSearchCV\n",
    "#C_range = [0.001, 0.01, 0.1, 1, 10]\n",
    "#gamma_range = [0.001, 0.01, 0.1, 1]\n",
    "#param_grid = dict(gamma=gamma_range, C=C_range)\n",
    "#grid_search = GridSearchCV(svm.SVC(kernel='rbf'), param_grid, cv=3)"
   ]
  },
  {
   "cell_type": "code",
   "execution_count": null,
   "metadata": {},
   "outputs": [],
   "source": [
    "#grid_search.fit(feature_train,label_train)\n",
    "#print(grid_search.best_params_)"
   ]
  }
 ],
 "metadata": {
  "kernelspec": {
   "display_name": "Python 3",
   "language": "python",
   "name": "python3"
  },
  "language_info": {
   "codemirror_mode": {
    "name": "ipython",
    "version": 3
   },
   "file_extension": ".py",
   "mimetype": "text/x-python",
   "name": "python",
   "nbconvert_exporter": "python",
   "pygments_lexer": "ipython3",
   "version": "3.6.4"
  }
 },
 "nbformat": 4,
 "nbformat_minor": 2
}
